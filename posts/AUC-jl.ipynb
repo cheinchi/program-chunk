{
 "cells": [
  {
   "cell_type": "markdown",
   "id": "a8edac9d-303d-4ac7-9e8b-84135c9c8668",
   "metadata": {},
   "source": [
    "### 如何使用Julia画AUC曲线"
   ]
  },
  {
   "cell_type": "markdown",
   "id": "c0059e23-555d-4bef-93ee-2f0ee88e78c9",
   "metadata": {},
   "source": [
    "AUC(area under the curve)是一个用于模型评估的工具，也就是ROC曲线下的面积大小。"
   ]
  },
  {
   "cell_type": "markdown",
   "id": "5989dc45-aec8-4238-b88a-3928dffd77da",
   "metadata": {},
   "source": [
    "安装方法：\n",
    "\n",
    "`] add https://github.com/diegozea/ROC.jl`"
   ]
  },
  {
   "cell_type": "code",
   "execution_count": 9,
   "id": "cc6de24c-7e70-43af-89ea-18810d3b89a1",
   "metadata": {},
   "outputs": [
    {
     "ename": "LoadError",
     "evalue": "ArgumentError: Package AUC not found in current path.\n- Run `import Pkg; Pkg.add(\"AUC\")` to install the AUC package.",
     "output_type": "error",
     "traceback": [
      "ArgumentError: Package AUC not found in current path.\n- Run `import Pkg; Pkg.add(\"AUC\")` to install the AUC package.",
      "",
      "Stacktrace:",
      " [1] macro expansion",
      "   @ ./loading.jl:1163 [inlined]",
      " [2] macro expansion",
      "   @ ./lock.jl:223 [inlined]",
      " [3] require(into::Module, mod::Symbol)",
      "   @ Base ./loading.jl:1144",
      " [4] eval",
      "   @ ./boot.jl:368 [inlined]",
      " [5] include_string(mapexpr::typeof(REPL.softscope), mod::Module, code::String, filename::String)",
      "   @ Base ./loading.jl:1428"
     ]
    }
   ],
   "source": [
    "using AUC"
   ]
  },
  {
   "cell_type": "code",
   "execution_count": 2,
   "id": "efd0a230-0b9d-45be-8e91-0d784054cb60",
   "metadata": {},
   "outputs": [
    {
     "data": {
      "text/plain": [
       "noisy (generic function with 1 method)"
      ]
     },
     "execution_count": 2,
     "metadata": {},
     "output_type": "execute_result"
    }
   ],
   "source": [
    "function noisy(label; λ=0.0)\n",
    "           if label\n",
    "               return 1 - λ*rand()\n",
    "           else\n",
    "               return λ*rand()\n",
    "           end\n",
    "       end\n"
   ]
  },
  {
   "cell_type": "code",
   "execution_count": 3,
   "id": "d9f935fb-2cad-416f-ba7b-644c6e5f8289",
   "metadata": {},
   "outputs": [],
   "source": [
    "labels = rand(Bool, 200);"
   ]
  },
  {
   "cell_type": "code",
   "execution_count": 4,
   "id": "a98cd953-e746-4a59-be03-d27c0cb0fa08",
   "metadata": {},
   "outputs": [
    {
     "data": {
      "text/plain": [
       "scores (generic function with 1 method)"
      ]
     },
     "execution_count": 4,
     "metadata": {},
     "output_type": "execute_result"
    }
   ],
   "source": [
    "scores(λ) = map(labels) do label\n",
    "           noisy(label, λ=λ)\n",
    "       end"
   ]
  },
  {
   "cell_type": "code",
   "execution_count": 5,
   "id": "7d98b393-b34f-4f72-821a-88f32250f660",
   "metadata": {},
   "outputs": [
    {
     "ename": "LoadError",
     "evalue": "UndefVarError: roc not defined",
     "output_type": "error",
     "traceback": [
      "UndefVarError: roc not defined",
      "",
      "Stacktrace:",
      " [1] top-level scope",
      "   @ In[5]:1",
      " [2] eval",
      "   @ ./boot.jl:368 [inlined]",
      " [3] include_string(mapexpr::typeof(REPL.softscope), mod::Module, code::String, filename::String)",
      "   @ Base ./loading.jl:1428"
     ]
    }
   ],
   "source": [
    "roc_good = roc(scores(0.6), labels, true);\n",
    "roc_bad = roc(scores(1.0), labels, true);"
   ]
  },
  {
   "cell_type": "code",
   "execution_count": null,
   "id": "9a46b095-f6d9-4e5d-affa-982f6e405fd9",
   "metadata": {},
   "outputs": [],
   "source": []
  }
 ],
 "metadata": {
  "kernelspec": {
   "display_name": "Julia 1.8.2",
   "language": "julia",
   "name": "julia-1.8"
  },
  "language_info": {
   "file_extension": ".jl",
   "mimetype": "application/julia",
   "name": "julia",
   "version": "1.8.2"
  }
 },
 "nbformat": 4,
 "nbformat_minor": 5
}
