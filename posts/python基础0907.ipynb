{
 "cells": [
  {
   "cell_type": "markdown",
   "id": "775d803e",
   "metadata": {
    "toc": true
   },
   "source": [
    "<h1>Table of Contents<span class=\"tocSkip\"></span></h1>\n",
    "<div class=\"toc\"><ul class=\"toc-item\"><li><span><a href=\"#jupyter-中的魔法函数\" data-toc-modified-id=\"jupyter-中的魔法函数-1\"><span class=\"toc-item-num\">1&nbsp;&nbsp;</span>jupyter 中的魔法函数</a></span><ul class=\"toc-item\"><li><span><a href=\"#%lsmagic\" data-toc-modified-id=\"%lsmagic-1.1\"><span class=\"toc-item-num\">1.1&nbsp;&nbsp;</span>%lsmagic</a></span></li><li><span><a href=\"#%matplotlib-inline-函数\" data-toc-modified-id=\"%matplotlib-inline-函数-1.2\"><span class=\"toc-item-num\">1.2&nbsp;&nbsp;</span>%matplotlib inline 函数</a></span></li><li><span><a href=\"#%-timeit-函数\" data-toc-modified-id=\"%-timeit-函数-1.3\"><span class=\"toc-item-num\">1.3&nbsp;&nbsp;</span>% timeit 函数</a></span></li><li><span><a href=\"#%%writefile函数\" data-toc-modified-id=\"%%writefile函数-1.4\"><span class=\"toc-item-num\">1.4&nbsp;&nbsp;</span>%%writefile函数</a></span></li></ul></li><li><span><a href=\"#数据类型\" data-toc-modified-id=\"数据类型-2\"><span class=\"toc-item-num\">2&nbsp;&nbsp;</span>数据类型</a></span><ul class=\"toc-item\"><li><ul class=\"toc-item\"><li><span><a href=\"#title\" data-toc-modified-id=\"title-2.0.1\"><span class=\"toc-item-num\">2.0.1&nbsp;&nbsp;</span>title</a></span></li><li><span><a href=\"#format()\" data-toc-modified-id=\"format()-2.0.2\"><span class=\"toc-item-num\">2.0.2&nbsp;&nbsp;</span>format()</a></span></li></ul></li><li><span><a href=\"#list\" data-toc-modified-id=\"list-2.1\"><span class=\"toc-item-num\">2.1&nbsp;&nbsp;</span>list</a></span><ul class=\"toc-item\"><li><span><a href=\"#添加列表元素\" data-toc-modified-id=\"添加列表元素-2.1.1\"><span class=\"toc-item-num\">2.1.1&nbsp;&nbsp;</span>添加列表元素</a></span></li><li><span><a href=\"#删除列表元素\" data-toc-modified-id=\"删除列表元素-2.1.2\"><span class=\"toc-item-num\">2.1.2&nbsp;&nbsp;</span>删除列表元素</a></span></li><li><span><a href=\"#全局内置函数\" data-toc-modified-id=\"全局内置函数-2.1.3\"><span class=\"toc-item-num\">2.1.3&nbsp;&nbsp;</span>全局内置函数</a></span></li></ul></li><li><span><a href=\"#元组\" data-toc-modified-id=\"元组-2.2\"><span class=\"toc-item-num\">2.2&nbsp;&nbsp;</span>元组</a></span></li><li><span><a href=\"#高效的推导式子\" data-toc-modified-id=\"高效的推导式子-2.3\"><span class=\"toc-item-num\">2.3&nbsp;&nbsp;</span>高效的推导式子</a></span><ul class=\"toc-item\"><li><span><a href=\"#方法与函数\" data-toc-modified-id=\"方法与函数-2.3.1\"><span class=\"toc-item-num\">2.3.1&nbsp;&nbsp;</span>方法与函数</a></span></li><li><span><a href=\"#使用列表推导实现嵌套列表的平铺\" data-toc-modified-id=\"使用列表推导实现嵌套列表的平铺-2.3.2\"><span class=\"toc-item-num\">2.3.2&nbsp;&nbsp;</span>使用列表推导实现嵌套列表的平铺</a></span></li><li><span><a href=\"#多条件组合构造特定列表\" data-toc-modified-id=\"多条件组合构造特定列表-2.3.3\"><span class=\"toc-item-num\">2.3.3&nbsp;&nbsp;</span>多条件组合构造特定列表</a></span></li><li><span><a href=\"#字典推导式\" data-toc-modified-id=\"字典推导式-2.3.4\"><span class=\"toc-item-num\">2.3.4&nbsp;&nbsp;</span>字典推导式</a></span></li><li><span><a href=\"#集合推导式\" data-toc-modified-id=\"集合推导式-2.3.5\"><span class=\"toc-item-num\">2.3.5&nbsp;&nbsp;</span>集合推导式</a></span></li></ul></li></ul></li><li><span><a href=\"#函数\" data-toc-modified-id=\"函数-3\"><span class=\"toc-item-num\">3&nbsp;&nbsp;</span>函数</a></span><ul class=\"toc-item\"><li><ul class=\"toc-item\"><li><span><a href=\"#函数文档的构建\" data-toc-modified-id=\"函数文档的构建-3.0.1\"><span class=\"toc-item-num\">3.0.1&nbsp;&nbsp;</span>函数文档的构建</a></span></li></ul></li><li><span><a href=\"#函数的传递\" data-toc-modified-id=\"函数的传递-3.1\"><span class=\"toc-item-num\">3.1&nbsp;&nbsp;</span>函数的传递</a></span><ul class=\"toc-item\"><li><span><a href=\"#关键字参数\" data-toc-modified-id=\"关键字参数-3.1.1\"><span class=\"toc-item-num\">3.1.1&nbsp;&nbsp;</span>关键字参数</a></span></li><li><span><a href=\"#可变参数\" data-toc-modified-id=\"可变参数-3.1.2\"><span class=\"toc-item-num\">3.1.2&nbsp;&nbsp;</span>可变参数</a></span></li></ul></li></ul></li></ul></div>"
   ]
  },
  {
   "cell_type": "markdown",
   "id": "fd7a9db0",
   "metadata": {},
   "source": [
    "## jupyter 中的魔法函数\n",
    "魔法函数：IPython中预先定义好的具备特定功能的函数被放入Jupyter中使用。\n",
    "\n",
    "魔法函数是Ipython中特有的函数，并非Python内置函数，在其他环境就不行了。"
   ]
  },
  {
   "cell_type": "code",
   "execution_count": 10,
   "id": "e7eea4b6",
   "metadata": {},
   "outputs": [
    {
     "data": {
      "text/plain": [
       "<matplotlib.collections.PathCollection at 0x7fd0a936b970>"
      ]
     },
     "execution_count": 10,
     "metadata": {},
     "output_type": "execute_result"
    }
   ],
   "source": [
    "import numpy as np\n",
    "import matplotlib.pyplot as plt\n",
    "np.random.seed(1)\n",
    "x = np.random.rand(10)\n",
    "y = np.random.rand(10)\n",
    "colors = np.random.rand(10)\n",
    "%matplotlib qt\n",
    "plt.scatter(x,y,c = colors,alpha=0.7)\n",
    "#plt.show()"
   ]
  },
  {
   "cell_type": "markdown",
   "id": "4a6b6883",
   "metadata": {},
   "source": [
    "魔法函数一种是面向行的(line magic)，以一个百分号(%)开头，其作用范围就是这个魔法函数当前行，"
   ]
  },
  {
   "cell_type": "markdown",
   "id": "3615c78b",
   "metadata": {},
   "source": [
    "### %lsmagic\n",
    "可用于查询jupyter中的各种魔法函数。"
   ]
  },
  {
   "cell_type": "code",
   "execution_count": 5,
   "id": "2f7cb359",
   "metadata": {},
   "outputs": [
    {
     "data": {
      "application/json": {
       "cell": {
        "!": "OSMagics",
        "HTML": "Other",
        "SVG": "Other",
        "bash": "Other",
        "capture": "ExecutionMagics",
        "debug": "ExecutionMagics",
        "file": "Other",
        "html": "DisplayMagics",
        "javascript": "DisplayMagics",
        "js": "DisplayMagics",
        "latex": "DisplayMagics",
        "markdown": "DisplayMagics",
        "perl": "Other",
        "prun": "ExecutionMagics",
        "pypy": "Other",
        "python": "Other",
        "python2": "Other",
        "python3": "Other",
        "ruby": "Other",
        "script": "ScriptMagics",
        "sh": "Other",
        "svg": "DisplayMagics",
        "sx": "OSMagics",
        "system": "OSMagics",
        "time": "ExecutionMagics",
        "timeit": "ExecutionMagics",
        "writefile": "OSMagics"
       },
       "line": {
        "alias": "OSMagics",
        "alias_magic": "BasicMagics",
        "autoawait": "AsyncMagics",
        "autocall": "AutoMagics",
        "automagic": "AutoMagics",
        "autosave": "KernelMagics",
        "bookmark": "OSMagics",
        "cat": "Other",
        "cd": "OSMagics",
        "clear": "KernelMagics",
        "colors": "BasicMagics",
        "conda": "PackagingMagics",
        "config": "ConfigMagics",
        "connect_info": "KernelMagics",
        "cp": "Other",
        "debug": "ExecutionMagics",
        "dhist": "OSMagics",
        "dirs": "OSMagics",
        "doctest_mode": "BasicMagics",
        "ed": "Other",
        "edit": "KernelMagics",
        "env": "OSMagics",
        "gui": "BasicMagics",
        "hist": "Other",
        "history": "HistoryMagics",
        "killbgscripts": "ScriptMagics",
        "ldir": "Other",
        "less": "KernelMagics",
        "lf": "Other",
        "lk": "Other",
        "ll": "Other",
        "load": "CodeMagics",
        "load_ext": "ExtensionMagics",
        "loadpy": "CodeMagics",
        "logoff": "LoggingMagics",
        "logon": "LoggingMagics",
        "logstart": "LoggingMagics",
        "logstate": "LoggingMagics",
        "logstop": "LoggingMagics",
        "ls": "Other",
        "lsmagic": "BasicMagics",
        "lx": "Other",
        "macro": "ExecutionMagics",
        "magic": "BasicMagics",
        "man": "KernelMagics",
        "matplotlib": "PylabMagics",
        "mkdir": "Other",
        "more": "KernelMagics",
        "mv": "Other",
        "notebook": "BasicMagics",
        "page": "BasicMagics",
        "pastebin": "CodeMagics",
        "pdb": "ExecutionMagics",
        "pdef": "NamespaceMagics",
        "pdoc": "NamespaceMagics",
        "pfile": "NamespaceMagics",
        "pinfo": "NamespaceMagics",
        "pinfo2": "NamespaceMagics",
        "pip": "PackagingMagics",
        "popd": "OSMagics",
        "pprint": "BasicMagics",
        "precision": "BasicMagics",
        "prun": "ExecutionMagics",
        "psearch": "NamespaceMagics",
        "psource": "NamespaceMagics",
        "pushd": "OSMagics",
        "pwd": "OSMagics",
        "pycat": "OSMagics",
        "pylab": "PylabMagics",
        "qtconsole": "KernelMagics",
        "quickref": "BasicMagics",
        "recall": "HistoryMagics",
        "rehashx": "OSMagics",
        "reload_ext": "ExtensionMagics",
        "rep": "Other",
        "rerun": "HistoryMagics",
        "reset": "NamespaceMagics",
        "reset_selective": "NamespaceMagics",
        "rm": "Other",
        "rmdir": "Other",
        "run": "ExecutionMagics",
        "save": "CodeMagics",
        "sc": "OSMagics",
        "set_env": "OSMagics",
        "store": "StoreMagics",
        "sx": "OSMagics",
        "system": "OSMagics",
        "tb": "ExecutionMagics",
        "time": "ExecutionMagics",
        "timeit": "ExecutionMagics",
        "unalias": "OSMagics",
        "unload_ext": "ExtensionMagics",
        "who": "NamespaceMagics",
        "who_ls": "NamespaceMagics",
        "whos": "NamespaceMagics",
        "xdel": "NamespaceMagics",
        "xmode": "BasicMagics"
       }
      },
      "text/plain": [
       "Available line magics:\n",
       "%alias  %alias_magic  %autoawait  %autocall  %automagic  %autosave  %bookmark  %cat  %cd  %clear  %colors  %conda  %config  %connect_info  %cp  %debug  %dhist  %dirs  %doctest_mode  %ed  %edit  %env  %gui  %hist  %history  %killbgscripts  %ldir  %less  %lf  %lk  %ll  %load  %load_ext  %loadpy  %logoff  %logon  %logstart  %logstate  %logstop  %ls  %lsmagic  %lx  %macro  %magic  %man  %matplotlib  %mkdir  %more  %mv  %notebook  %page  %pastebin  %pdb  %pdef  %pdoc  %pfile  %pinfo  %pinfo2  %pip  %popd  %pprint  %precision  %prun  %psearch  %psource  %pushd  %pwd  %pycat  %pylab  %qtconsole  %quickref  %recall  %rehashx  %reload_ext  %rep  %rerun  %reset  %reset_selective  %rm  %rmdir  %run  %save  %sc  %set_env  %store  %sx  %system  %tb  %time  %timeit  %unalias  %unload_ext  %who  %who_ls  %whos  %xdel  %xmode\n",
       "\n",
       "Available cell magics:\n",
       "%%!  %%HTML  %%SVG  %%bash  %%capture  %%debug  %%file  %%html  %%javascript  %%js  %%latex  %%markdown  %%perl  %%prun  %%pypy  %%python  %%python2  %%python3  %%ruby  %%script  %%sh  %%svg  %%sx  %%system  %%time  %%timeit  %%writefile\n",
       "\n",
       "Automagic is ON, % prefix IS NOT needed for line magics."
      ]
     },
     "execution_count": 5,
     "metadata": {},
     "output_type": "execute_result"
    }
   ],
   "source": [
    "%lsmagic"
   ]
  },
  {
   "cell_type": "markdown",
   "id": "d2f5f1cb",
   "metadata": {},
   "source": [
    "### %matplotlib inline 函数"
   ]
  },
  {
   "cell_type": "markdown",
   "id": "51cd31f5",
   "metadata": {},
   "source": [
    "inline模式，就是告诉Ipython绘图直接显示在当前网页中，`plt.show()`可省略。但其out中会多出关于该output的adress\n",
    "\n",
    "inline之后有一个对标参数qt，使用这个，就可以使得代码构造的图形是独立窗口显示的。可实现拖拽等。"
   ]
  },
  {
   "cell_type": "markdown",
   "id": "b24af527",
   "metadata": {},
   "source": [
    "### % timeit 函数"
   ]
  },
  {
   "cell_type": "markdown",
   "id": "57a92403",
   "metadata": {},
   "source": [
    "提供某行代码等执行计时服务，评估机器学习算法的性能有用"
   ]
  },
  {
   "cell_type": "code",
   "execution_count": 11,
   "id": "a3d7c44f",
   "metadata": {},
   "outputs": [
    {
     "name": "stdout",
     "output_type": "stream",
     "text": [
      "4.16 µs ± 46.3 ns per loop (mean ± std. dev. of 7 runs, 100,000 loops each)\n"
     ]
    }
   ],
   "source": [
    "%timeit area = (40*np.random.rand(20))**2"
   ]
  },
  {
   "cell_type": "markdown",
   "id": "373f32f0",
   "metadata": {},
   "source": [
    "translation：对于代码`area = (40*np.random.rand(20))**2`运行7轮，每轮运行100000个循环，均值6.6微秒"
   ]
  },
  {
   "cell_type": "markdown",
   "id": "a6759455",
   "metadata": {},
   "source": [
    "改变循环次：添加参数"
   ]
  },
  {
   "cell_type": "code",
   "execution_count": 17,
   "id": "10ebcfc3",
   "metadata": {},
   "outputs": [
    {
     "name": "stdout",
     "output_type": "stream",
     "text": [
      "The slowest run took 4.02 times longer than the fastest. This could mean that an intermediate result is being cached.\n",
      "25 µs ± 14.7 µs per loop (mean ± std. dev. of 7 runs, 100 loops each)\n"
     ]
    }
   ],
   "source": [
    "%timeit -n100 area = (40*np.random.rand(20))**2"
   ]
  },
  {
   "cell_type": "markdown",
   "id": "082c0015",
   "metadata": {},
   "source": [
    "### %%writefile函数"
   ]
  },
  {
   "cell_type": "markdown",
   "id": "88b170df",
   "metadata": {},
   "source": [
    "Jupyter代码块中的代码一块一块的复制到IDE中，保存为Python源文件。\n",
    "`%%writefile`就是做这个的。\n",
    "通过该魔法函数的前面两个就是一个整个代码块作为作用域，"
   ]
  },
  {
   "cell_type": "code",
   "execution_count": 20,
   "id": "e6462fd5",
   "metadata": {},
   "outputs": [
    {
     "name": "stdout",
     "output_type": "stream",
     "text": [
      "/Users/a182501\r\n"
     ]
    }
   ],
   "source": [
    "! pwd"
   ]
  },
  {
   "cell_type": "markdown",
   "id": "520f3272",
   "metadata": {},
   "source": [
    "shell命令：命令行和计算机进行文本交互的命令方式，Jupyter中之遥加上一个`!`就可以执行shell命令"
   ]
  },
  {
   "cell_type": "code",
   "execution_count": 22,
   "id": "5f1537d9",
   "metadata": {},
   "outputs": [
    {
     "name": "stdout",
     "output_type": "stream",
     "text": [
      "['1.csv', '111.Rmd', '123.csv', '3.py', '6 linear reg.Rmd', 'Applications', 'CAPM_python_realization.ipynb', 'Calibre Library', 'DIR', 'Desktop', 'Desktop.pem', 'Documents', 'Downloads', 'E:\\\\工作簿1.csv', 'Figure_1.png', 'Julia入门.ipynb', 'LAB$.docx', 'LAB$.tex', 'LAB4.R', 'Library', 'Movies', 'Music', 'Nutstore Files', 'NutstoreCloudBridge', 'Pictures', 'PycharmProjects', 'RevMan tutorial', 'R语言进阶步骤.ipynb', 'Sites', 'U.tex', 'Untitled-1.py', 'Untitled-1.tex', 'Untitled-2.bcf', 'Untitled-2.log', 'Untitled-2.pdf', 'Untitled-2.tex', 'Untitled.R', 'Untitled.Rmd', 'Untitled.docx', 'Untitled.ipynb', 'Untitled.pdf', 'Untitled0702.tex', 'Untitled1.ipynb', 'Untitled2.Rmd', 'Untitled2.ipynb', 'Zotero', 'a182501.Rproj', 'abc.yml', 'abc2.yml', 'airbnb_python_kaggle.ipynb', 'bernoulli+bayes+likehood.R', 'bin', 'blog', 'cancer.csv', 'cd', 'ciation.json', 'citespace', 'citespace.projects.txt', 'class.csv', 'cm2_mod.R', 'cm_mod.R', 'colors-bar.pdf', 'consumption1.pdf', 'consumption1.tex', 'cv.docx', 'd:pythonpython37libsite-packages', 'data', 'data1964al.xy', 'data\\\\导出5.csv', 'datas', 'diabetes.csv', 'die_mod.R', 'dismap_mod.R', 'file=..', 'ews.csv', 'geos_mod.R', 'git', 'hello_bundle.zip', 'hello_mod.R', 'house_inf.csv', 'iCloud云盘（归档）', 'import requests.py', 'jianqi.doc', 'jianqi.txt', 'jianqinb.tex', 'julia-1.7.2-linux-i686.tar.gz', 'julia-1.7.2-linux-x86_64.tar.gz', 'julia-1.7.2-mac64.tar.gz', 'lab3.Rmd', 'lab3.md', 'lab3_files', 'lab4.Rmd', 'lab40615.R', 'lab4_0615.Rmd', 'lat_mod.R', 'lianjia_ershou_futian_100.xlsx', 'lianjia_ershou_futian_3.csv', 'list1.txt', 'machine learning.ipynb', 'mydemo.Rmd', 'netural net training.ipynb', 'news.csv', 'opt', 'pfl-data.txt', 'pfl-init2.txt', 'pfl-model.txt', 'plot_grid.R', 'print(\"hhh\").py', 'print(\"hhhelll\").py', 'print(\"ssss\").py', 'project', 'pythonProject', 'python_map_folium.ipynb', 'python学习笔记.ipynb', 'rent.csv', 'rstan.R', 's.yml', 'seaborn-data', 'sensors', 'sppa_mod.R', 'std_mod.R', 'stock_price.csv', 'test.pod', 'test.txt', 'tk.csv', 'tmdb250.ipynb', 'untitled1', 'vecstore.txt', 'vis_mod.R', 'wget-log', '学习.ipynb', '其他.pod', '随意.py', '导出5.csv', '数据集', '未命名-1.tex', '未命名.ipynb', '文件名.png', '工作簿1.csv', '装修项目.pod', '斐波那契.py', '聚类分析图.R', '相关性分析.doc', '劳动生产率.md', '社会网络分析.ipynb', '抓取新浪财经新闻.R']\n"
     ]
    }
   ],
   "source": [
    "files = !ls\n",
    "print(files)"
   ]
  },
  {
   "cell_type": "markdown",
   "id": "638d2870",
   "metadata": {},
   "source": [
    "## 数据类型"
   ]
  },
  {
   "cell_type": "markdown",
   "id": "05d493b3",
   "metadata": {},
   "source": [
    "算法(algorithm)+数据结构(data structure)=程序(program)"
   ]
  },
  {
   "cell_type": "markdown",
   "id": "222e3db4",
   "metadata": {},
   "source": [
    "对于字符串，可以使用很多有用的方法(method)，通过dir命令来查看相关的方法"
   ]
  },
  {
   "cell_type": "code",
   "execution_count": 24,
   "id": "1fdf4152",
   "metadata": {},
   "outputs": [
    {
     "data": {
      "text/plain": [
       "['__add__',\n",
       " '__class__',\n",
       " '__contains__',\n",
       " '__delattr__',\n",
       " '__dir__',\n",
       " '__doc__',\n",
       " '__eq__',\n",
       " '__format__',\n",
       " '__ge__',\n",
       " '__getattribute__',\n",
       " '__getitem__',\n",
       " '__getnewargs__',\n",
       " '__gt__',\n",
       " '__hash__',\n",
       " '__init__',\n",
       " '__init_subclass__',\n",
       " '__iter__',\n",
       " '__le__',\n",
       " '__len__',\n",
       " '__lt__',\n",
       " '__mod__',\n",
       " '__mul__',\n",
       " '__ne__',\n",
       " '__new__',\n",
       " '__reduce__',\n",
       " '__reduce_ex__',\n",
       " '__repr__',\n",
       " '__rmod__',\n",
       " '__rmul__',\n",
       " '__setattr__',\n",
       " '__sizeof__',\n",
       " '__str__',\n",
       " '__subclasshook__',\n",
       " 'capitalize',\n",
       " 'casefold',\n",
       " 'center',\n",
       " 'count',\n",
       " 'encode',\n",
       " 'endswith',\n",
       " 'expandtabs',\n",
       " 'find',\n",
       " 'format',\n",
       " 'format_map',\n",
       " 'index',\n",
       " 'isalnum',\n",
       " 'isalpha',\n",
       " 'isascii',\n",
       " 'isdecimal',\n",
       " 'isdigit',\n",
       " 'isidentifier',\n",
       " 'islower',\n",
       " 'isnumeric',\n",
       " 'isprintable',\n",
       " 'isspace',\n",
       " 'istitle',\n",
       " 'isupper',\n",
       " 'join',\n",
       " 'ljust',\n",
       " 'lower',\n",
       " 'lstrip',\n",
       " 'maketrans',\n",
       " 'partition',\n",
       " 'removeprefix',\n",
       " 'removesuffix',\n",
       " 'replace',\n",
       " 'rfind',\n",
       " 'rindex',\n",
       " 'rjust',\n",
       " 'rpartition',\n",
       " 'rsplit',\n",
       " 'rstrip',\n",
       " 'split',\n",
       " 'splitlines',\n",
       " 'startswith',\n",
       " 'strip',\n",
       " 'swapcase',\n",
       " 'title',\n",
       " 'translate',\n",
       " 'upper',\n",
       " 'zfill']"
      ]
     },
     "execution_count": 24,
     "metadata": {},
     "output_type": "execute_result"
    }
   ],
   "source": [
    "dir(str)  #查看字符串对象的方法"
   ]
  },
  {
   "cell_type": "code",
   "execution_count": 25,
   "id": "6fdbd539",
   "metadata": {},
   "outputs": [
    {
     "name": "stdout",
     "output_type": "stream",
     "text": [
      "Help on method_descriptor:\n",
      "\n",
      "split(self, /, sep=None, maxsplit=-1)\n",
      "    Return a list of the words in the string, using sep as the delimiter string.\n",
      "    \n",
      "    sep\n",
      "      The delimiter according which to split the string.\n",
      "      None (the default value) means split according to any whitespace,\n",
      "      and discard empty strings from the result.\n",
      "    maxsplit\n",
      "      Maximum number of splits to do.\n",
      "      -1 (the default value) means no limit.\n",
      "\n"
     ]
    }
   ],
   "source": [
    "help(str.split)"
   ]
  },
  {
   "cell_type": "code",
   "execution_count": null,
   "id": "249ac89f",
   "metadata": {},
   "outputs": [],
   "source": [
    "方法"
   ]
  },
  {
   "cell_type": "code",
   "execution_count": 31,
   "id": "bbca27a3",
   "metadata": {},
   "outputs": [
    {
     "name": "stdout",
     "output_type": "stream",
     "text": [
      "['I', 'love', 'CUFE']\n"
     ]
    }
   ],
   "source": [
    "str_1 = \"I love CUFE\"\n",
    "str_1.split(\" \")  #.split() the '.' to pipe the parameter to split()\n",
    "#return the list\n",
    "sep_1=str_1.split(\" \")\n",
    "print(sep_1)"
   ]
  },
  {
   "cell_type": "code",
   "execution_count": 75,
   "id": "aa7f2cdc",
   "metadata": {},
   "outputs": [
    {
     "ename": "AttributeError",
     "evalue": "'list' object has no attribute 'add'",
     "output_type": "error",
     "traceback": [
      "\u001b[0;31m---------------------------------------------------------------------------\u001b[0m",
      "\u001b[0;31mAttributeError\u001b[0m                            Traceback (most recent call last)",
      "Input \u001b[0;32mIn [75]\u001b[0m, in \u001b[0;36m<cell line: 1>\u001b[0;34m()\u001b[0m\n\u001b[0;32m----> 1\u001b[0m \u001b[43msep_1\u001b[49m\u001b[38;5;241;43m.\u001b[39;49m\u001b[43madd\u001b[49m(\u001b[38;5;124m\"\u001b[39m\u001b[38;5;124ms\u001b[39m\u001b[38;5;124m\"\u001b[39m)\n",
      "\u001b[0;31mAttributeError\u001b[0m: 'list' object has no attribute 'add'"
     ]
    }
   ],
   "source": [
    "sep_1.add(\"s\")"
   ]
  },
  {
   "cell_type": "code",
   "execution_count": 29,
   "id": "ab114520",
   "metadata": {},
   "outputs": [
    {
     "name": "stdout",
     "output_type": "stream",
     "text": [
      "CUFE\n"
     ]
    }
   ],
   "source": [
    "print(sep_1[2])"
   ]
  },
  {
   "cell_type": "markdown",
   "id": "0d429e47",
   "metadata": {},
   "source": [
    "#### title"
   ]
  },
  {
   "cell_type": "code",
   "execution_count": 32,
   "id": "83f3e5e0",
   "metadata": {},
   "outputs": [
    {
     "data": {
      "text/plain": [
       "'Hello World Hello Python'"
      ]
     },
     "execution_count": 32,
     "metadata": {},
     "output_type": "execute_result"
    }
   ],
   "source": [
    "str_2= \"hello world hello python\"\n",
    "str_2.title()"
   ]
  },
  {
   "cell_type": "markdown",
   "id": "6d37a4f1",
   "metadata": {},
   "source": [
    "#### format()"
   ]
  },
  {
   "cell_type": "markdown",
   "id": "1ce922e4",
   "metadata": {},
   "source": [
    "这个通过字符串中的花括号和冒号，代替早期C语言中的格式化输出界定符号`%`，`format()`不限参数个数，显示位置可以不同于出现的顺序"
   ]
  },
  {
   "cell_type": "code",
   "execution_count": 35,
   "id": "795090b2",
   "metadata": {},
   "outputs": [
    {
     "data": {
      "text/plain": [
       "'python hello'"
      ]
     },
     "execution_count": 35,
     "metadata": {},
     "output_type": "execute_result"
    }
   ],
   "source": [
    "\"{1} {0}\".format(\"hello\",\"python\")  #中间的空格也会被输出"
   ]
  },
  {
   "cell_type": "markdown",
   "id": "f351bc90",
   "metadata": {},
   "source": [
    "### list"
   ]
  },
  {
   "cell_type": "markdown",
   "id": "1a3590ca",
   "metadata": {},
   "source": [
    "相当于C中的数组，创建不复杂。"
   ]
  },
  {
   "cell_type": "code",
   "execution_count": 39,
   "id": "b6c2a536",
   "metadata": {},
   "outputs": [],
   "source": [
    "list1 = []"
   ]
  },
  {
   "cell_type": "code",
   "execution_count": 41,
   "id": "26548e6d",
   "metadata": {},
   "outputs": [
    {
     "data": {
      "text/plain": [
       "list"
      ]
     },
     "execution_count": 41,
     "metadata": {},
     "output_type": "execute_result"
    }
   ],
   "source": [
    "type(list1)"
   ]
  },
  {
   "cell_type": "markdown",
   "id": "32b04326",
   "metadata": {},
   "source": [
    "python列表中各个数据项的类型不需要都是相同的。"
   ]
  },
  {
   "cell_type": "code",
   "execution_count": 42,
   "id": "e3588cdc",
   "metadata": {},
   "outputs": [],
   "source": [
    "list1 = ['math',\"中文\",99,20]"
   ]
  },
  {
   "cell_type": "code",
   "execution_count": 43,
   "id": "ea1333c2",
   "metadata": {},
   "outputs": [
    {
     "data": {
      "text/plain": [
       "['math', '中文', 99, 20]"
      ]
     },
     "execution_count": 43,
     "metadata": {},
     "output_type": "execute_result"
    }
   ],
   "source": [
    "list1"
   ]
  },
  {
   "cell_type": "markdown",
   "id": "61895f63",
   "metadata": {},
   "source": [
    "列表内部是可变的（mutable）"
   ]
  },
  {
   "cell_type": "code",
   "execution_count": 54,
   "id": "29129057",
   "metadata": {},
   "outputs": [],
   "source": [
    "list1=[1,2,3,4,6,8,9,11]"
   ]
  },
  {
   "cell_type": "code",
   "execution_count": 56,
   "id": "7c042e93",
   "metadata": {},
   "outputs": [
    {
     "data": {
      "text/plain": [
       "[1, 2, 3, 4]"
      ]
     },
     "execution_count": 56,
     "metadata": {},
     "output_type": "execute_result"
    }
   ],
   "source": [
    "list1[:4]"
   ]
  },
  {
   "cell_type": "code",
   "execution_count": 57,
   "id": "cf4d6a8d",
   "metadata": {},
   "outputs": [
    {
     "data": {
      "text/plain": [
       "[1, 3, 6, 9]"
      ]
     },
     "execution_count": 57,
     "metadata": {},
     "output_type": "execute_result"
    }
   ],
   "source": [
    "list1[0:9:2]"
   ]
  },
  {
   "cell_type": "code",
   "execution_count": 60,
   "id": "f61d54ad",
   "metadata": {},
   "outputs": [
    {
     "data": {
      "text/plain": [
       "[11, 9, 8, 6, 4, 3, 2, 1]"
      ]
     },
     "execution_count": 60,
     "metadata": {},
     "output_type": "execute_result"
    }
   ],
   "source": [
    "list1[::-1]"
   ]
  },
  {
   "cell_type": "markdown",
   "id": "866a517e",
   "metadata": {},
   "source": [
    "#### 添加列表元素"
   ]
  },
  {
   "cell_type": "markdown",
   "id": "f05d26c5",
   "metadata": {},
   "source": [
    "- `append()`在列表末尾添加一个新元素。\n",
    "- `insert()`在列表的指定索引位置插入一个元素。\n",
    "- `extend()`把一个列表整体扩展添加到另外一个列表尾部"
   ]
  },
  {
   "cell_type": "markdown",
   "id": "49ae3f44",
   "metadata": {},
   "source": [
    "都是属于原地操作(in place)，被操作对象的列表的内存地址原封不动，不会因为函数的作用而发生改变"
   ]
  },
  {
   "cell_type": "markdown",
   "id": "95728677",
   "metadata": {},
   "source": [
    "#### 删除列表元素"
   ]
  },
  {
   "cell_type": "markdown",
   "id": "e08bf6d4",
   "metadata": {},
   "source": [
    "- `pop()`\n",
    "- `remove()`\n",
    "- `clear()`"
   ]
  },
  {
   "cell_type": "markdown",
   "id": "e4040af0",
   "metadata": {},
   "source": [
    "#### 全局内置函数"
   ]
  },
  {
   "cell_type": "markdown",
   "id": "1a672c49",
   "metadata": {},
   "source": [
    "除了列表这个数据类型本身自带的函数，Python的内置函数也可以对列表进行操作。也就是说不是list独有的。"
   ]
  },
  {
   "cell_type": "code",
   "execution_count": 62,
   "id": "1e3adf12",
   "metadata": {},
   "outputs": [
    {
     "data": {
      "text/plain": [
       "['__add__',\n",
       " '__class__',\n",
       " '__class_getitem__',\n",
       " '__contains__',\n",
       " '__delattr__',\n",
       " '__delitem__',\n",
       " '__dir__',\n",
       " '__doc__',\n",
       " '__eq__',\n",
       " '__format__',\n",
       " '__ge__',\n",
       " '__getattribute__',\n",
       " '__getitem__',\n",
       " '__gt__',\n",
       " '__hash__',\n",
       " '__iadd__',\n",
       " '__imul__',\n",
       " '__init__',\n",
       " '__init_subclass__',\n",
       " '__iter__',\n",
       " '__le__',\n",
       " '__len__',\n",
       " '__lt__',\n",
       " '__mul__',\n",
       " '__ne__',\n",
       " '__new__',\n",
       " '__reduce__',\n",
       " '__reduce_ex__',\n",
       " '__repr__',\n",
       " '__reversed__',\n",
       " '__rmul__',\n",
       " '__setattr__',\n",
       " '__setitem__',\n",
       " '__sizeof__',\n",
       " '__str__',\n",
       " '__subclasshook__',\n",
       " 'append',\n",
       " 'clear',\n",
       " 'copy',\n",
       " 'count',\n",
       " 'extend',\n",
       " 'index',\n",
       " 'insert',\n",
       " 'pop',\n",
       " 'remove',\n",
       " 'reverse',\n",
       " 'sort']"
      ]
     },
     "execution_count": 62,
     "metadata": {},
     "output_type": "execute_result"
    }
   ],
   "source": [
    "dir(list)"
   ]
  },
  {
   "cell_type": "code",
   "execution_count": 69,
   "id": "12a3dcab",
   "metadata": {},
   "outputs": [
    {
     "data": {
      "text/plain": [
       "['apple', 'banana', 'organge', 'pear']"
      ]
     },
     "execution_count": 69,
     "metadata": {},
     "output_type": "execute_result"
    }
   ],
   "source": [
    "fruits=['organge','apple','banana','pear']\n",
    "sorted(fruits)"
   ]
  },
  {
   "cell_type": "code",
   "execution_count": 70,
   "id": "927cd757",
   "metadata": {},
   "outputs": [
    {
     "name": "stdout",
     "output_type": "stream",
     "text": [
      "['organge', 'apple', 'banana', 'pear']\n"
     ]
    }
   ],
   "source": [
    "print(fruits)"
   ]
  },
  {
   "cell_type": "markdown",
   "id": "c0caf3d2",
   "metadata": {},
   "source": [
    "用了sort内置函就会改变原有数据，直接在原有数据上操作。"
   ]
  },
  {
   "cell_type": "code",
   "execution_count": 72,
   "id": "fdadbb0d",
   "metadata": {},
   "outputs": [
    {
     "name": "stdout",
     "output_type": "stream",
     "text": [
      "['apple', 'banana', 'organge', 'pear']\n"
     ]
    }
   ],
   "source": [
    "fruits.sort()\n",
    "print(fruits)"
   ]
  },
  {
   "cell_type": "code",
   "execution_count": 97,
   "id": "3627b4ae",
   "metadata": {},
   "outputs": [],
   "source": [
    "fruits.append(\"建祺\")"
   ]
  },
  {
   "cell_type": "code",
   "execution_count": null,
   "id": "b1649539",
   "metadata": {},
   "outputs": [],
   "source": []
  },
  {
   "cell_type": "code",
   "execution_count": 98,
   "id": "aecbc599",
   "metadata": {},
   "outputs": [
    {
     "data": {
      "text/plain": [
       "'建祺'"
      ]
     },
     "execution_count": 98,
     "metadata": {},
     "output_type": "execute_result"
    }
   ],
   "source": [
    "max(fruits)"
   ]
  },
  {
   "cell_type": "markdown",
   "id": "7cabc34d",
   "metadata": {},
   "source": [
    "- `cmp(list1,list2)`比较两个列表的元素\n",
    "- `list(seq)`将元组转化为列表\n",
    "- `zip(list1,list2)`将多个列表元素组合成一个个的元组"
   ]
  },
  {
   "cell_type": "markdown",
   "id": "341d023a",
   "metadata": {},
   "source": [
    "### 元组"
   ]
  },
  {
   "cell_type": "markdown",
   "id": "0c587831",
   "metadata": {},
   "source": [
    "不同于列表的标识，元组使用一对圆括号将元素囊括其中。"
   ]
  },
  {
   "cell_type": "code",
   "execution_count": 79,
   "id": "675c4fdc",
   "metadata": {},
   "outputs": [
    {
     "data": {
      "text/plain": [
       "tuple"
      ]
     },
     "execution_count": 79,
     "metadata": {},
     "output_type": "execute_result"
    }
   ],
   "source": [
    "tup1 = ()\n",
    "type(tup1)"
   ]
  },
  {
   "cell_type": "code",
   "execution_count": 81,
   "id": "91efc8e9",
   "metadata": {},
   "outputs": [],
   "source": [
    "tup1 = (100,)#只有一个元素在后面加一个逗号"
   ]
  },
  {
   "cell_type": "markdown",
   "id": "a63d0c4c",
   "metadata": {},
   "source": [
    "### 高效的推导式子"
   ]
  },
  {
   "cell_type": "markdown",
   "id": "8af3fe81",
   "metadata": {},
   "source": [
    "又称为解析式，python中非常简洁地按照某种规则，以一个数据序列为基础，推导出另一个新的数据序列。"
   ]
  },
  {
   "cell_type": "markdown",
   "id": "9757fdbd",
   "metadata": {},
   "source": [
    "[生成表达式 for 变量 in 序列或迭代对象]\n",
    "\n",
    "最外层的括号表示这个结果是一个列表。方括号内的描述的列表推导式相当于一个循环，只不过形式上更加简洁。"
   ]
  },
  {
   "cell_type": "code",
   "execution_count": 84,
   "id": "97f56dc3",
   "metadata": {},
   "outputs": [
    {
     "name": "stdout",
     "output_type": "stream",
     "text": [
      "[0, 1, 4, 9]\n"
     ]
    }
   ],
   "source": [
    "alist = [x**2 for x in range(4)]\n",
    "print(alist)"
   ]
  },
  {
   "cell_type": "markdown",
   "id": "7b761f67",
   "metadata": {},
   "source": [
    "filter that dont meet the requirement"
   ]
  },
  {
   "cell_type": "code",
   "execution_count": 87,
   "id": "33ed1ad6",
   "metadata": {},
   "outputs": [
    {
     "name": "stdout",
     "output_type": "stream",
     "text": [
      "[1, 0, 36]\n"
     ]
    }
   ],
   "source": [
    "a_list = [1,'4','9','a',0,6,'hello']\n",
    "squared_ints = [e**2 for e in a_list if type(e)==int]\n",
    "print(squared_ints)"
   ]
  },
  {
   "cell_type": "markdown",
   "id": "13d06321",
   "metadata": {},
   "source": [
    "#### 方法与函数"
   ]
  },
  {
   "cell_type": "code",
   "execution_count": 100,
   "id": "802df786",
   "metadata": {},
   "outputs": [
    {
     "data": {
      "text/plain": [
       "builtin_function_or_method"
      ]
     },
     "execution_count": 100,
     "metadata": {},
     "output_type": "execute_result"
    }
   ],
   "source": [
    "type(print)"
   ]
  },
  {
   "cell_type": "code",
   "execution_count": 102,
   "id": "454b3c82",
   "metadata": {},
   "outputs": [
    {
     "data": {
      "text/plain": [
       "builtin_function_or_method"
      ]
     },
     "execution_count": 102,
     "metadata": {},
     "output_type": "execute_result"
    }
   ],
   "source": [
    "type(max)"
   ]
  },
  {
   "cell_type": "markdown",
   "id": "135b37bc",
   "metadata": {},
   "source": [
    "#### 使用列表推导实现嵌套列表的平铺"
   ]
  },
  {
   "cell_type": "markdown",
   "id": "a2141413",
   "metadata": {},
   "source": [
    "将所有的列表中的列表展开："
   ]
  },
  {
   "cell_type": "code",
   "execution_count": 90,
   "id": "e78d8dbe",
   "metadata": {},
   "outputs": [],
   "source": [
    "vec = [[1,2,3],[3,4,5],[5,6,7]]\n",
    "flat_vec = [num for elem in vec for num in elem]"
   ]
  },
  {
   "cell_type": "code",
   "execution_count": 91,
   "id": "e255000b",
   "metadata": {},
   "outputs": [
    {
     "name": "stdout",
     "output_type": "stream",
     "text": [
      "[1, 2, 3, 3, 4, 5, 5, 6, 7]\n"
     ]
    }
   ],
   "source": [
    "print(flat_vec)"
   ]
  },
  {
   "cell_type": "markdown",
   "id": "0be590b7",
   "metadata": {},
   "source": [
    "#### 多条件组合构造特定列表"
   ]
  },
  {
   "cell_type": "markdown",
   "id": "89eb2aea",
   "metadata": {},
   "source": [
    "列表推导包含一对括号，在括号内有一个输出表达式，表达式之后跟着一条for语句，之后就能构造出多种的列表推导。"
   ]
  },
  {
   "cell_type": "code",
   "execution_count": 93,
   "id": "bcf2f18b",
   "metadata": {},
   "outputs": [
    {
     "name": "stdout",
     "output_type": "stream",
     "text": [
      "[(1, 3), (1, 4), (2, 3), (2, 1), (2, 4), (3, 1), (3, 4)]\n"
     ]
    }
   ],
   "source": [
    "new_list = [(x,y) for x in [1,2,3] for y in [3,1,4] if x != y]\n",
    "print(new_list)"
   ]
  },
  {
   "cell_type": "markdown",
   "id": "6dbc14d2",
   "metadata": {},
   "source": [
    "#### 字典推导式"
   ]
  },
  {
   "cell_type": "code",
   "execution_count": 105,
   "id": "458a76ec",
   "metadata": {},
   "outputs": [],
   "source": [
    "mcase ={'a':10,'b':30,'c':50}\n",
    "kv_exchange ={v:k for k,v in mcase.items()}"
   ]
  },
  {
   "cell_type": "code",
   "execution_count": 106,
   "id": "7c7d5ce6",
   "metadata": {},
   "outputs": [
    {
     "name": "stdout",
     "output_type": "stream",
     "text": [
      "{10: 'a', 30: 'b', 50: 'c'}\n"
     ]
    }
   ],
   "source": [
    "print(kv_exchange)"
   ]
  },
  {
   "cell_type": "markdown",
   "id": "092803e3",
   "metadata": {},
   "source": [
    "#### 集合推导式"
   ]
  },
  {
   "cell_type": "markdown",
   "id": "4e5e2c48",
   "metadata": {},
   "source": [
    "核心是一对花括号，字典内的元素需以“键/值对”形式出现"
   ]
  },
  {
   "cell_type": "code",
   "execution_count": null,
   "id": "106056b8",
   "metadata": {},
   "outputs": [],
   "source": []
  },
  {
   "cell_type": "markdown",
   "id": "0c549071",
   "metadata": {},
   "source": [
    "## 函数"
   ]
  },
  {
   "cell_type": "code",
   "execution_count": null,
   "id": "ec0e379e",
   "metadata": {},
   "outputs": [],
   "source": []
  },
  {
   "cell_type": "markdown",
   "id": "cb8a94aa",
   "metadata": {},
   "source": [
    "#### 函数文档的构建"
   ]
  },
  {
   "cell_type": "markdown",
   "id": "7e7555f8",
   "metadata": {},
   "source": [
    "大规模协助是常态，代码是程序员的思维方式的一种物化形式。"
   ]
  },
  {
   "cell_type": "code",
   "execution_count": null,
   "id": "f85314c9",
   "metadata": {},
   "outputs": [],
   "source": []
  },
  {
   "cell_type": "markdown",
   "id": "4199b4ed",
   "metadata": {},
   "source": [
    "### 函数的传递"
   ]
  },
  {
   "cell_type": "markdown",
   "id": "bd840d18",
   "metadata": {},
   "source": [
    "#### 关键字参数"
   ]
  },
  {
   "cell_type": "code",
   "execution_count": null,
   "id": "b4f9842e",
   "metadata": {},
   "outputs": [],
   "source": []
  },
  {
   "cell_type": "markdown",
   "id": "cd17d5ff",
   "metadata": {},
   "source": [
    "#### 可变参数"
   ]
  },
  {
   "cell_type": "markdown",
   "id": "b3e17afa",
   "metadata": {},
   "source": [
    "函数调用时候，参数的个数不固定，比如在C中，可变参数较为普遍。\n"
   ]
  },
  {
   "cell_type": "code",
   "execution_count": 108,
   "id": "f9138fb6",
   "metadata": {},
   "outputs": [
    {
     "name": "stdout",
     "output_type": "stream",
     "text": [
      "15\n",
      "43.6\n"
     ]
    }
   ],
   "source": [
    "def mySum(*args):\n",
    "    sum = 0\n",
    "    for i in range(0,len(args)):\n",
    "        sum = sum + args[i]\n",
    "    return sum\n",
    "print(mySum(1,2,3,4,5))\n",
    "#python is not strict with parameters' forms\n",
    "print(mySum(20.1,23.5))"
   ]
  },
  {
   "cell_type": "code",
   "execution_count": null,
   "id": "ef87fae5",
   "metadata": {},
   "outputs": [],
   "source": []
  }
 ],
 "metadata": {
  "kernelspec": {
   "display_name": "Python 3 (ipykernel)",
   "language": "python",
   "name": "python3"
  },
  "language_info": {
   "codemirror_mode": {
    "name": "ipython",
    "version": 3
   },
   "file_extension": ".py",
   "mimetype": "text/x-python",
   "name": "python",
   "nbconvert_exporter": "python",
   "pygments_lexer": "ipython3",
   "version": "3.9.12"
  },
  "toc": {
   "base_numbering": 1,
   "nav_menu": {},
   "number_sections": true,
   "sideBar": true,
   "skip_h1_title": true,
   "title_cell": "Table of Contents",
   "title_sidebar": "Contents",
   "toc_cell": true,
   "toc_position": {},
   "toc_section_display": true,
   "toc_window_display": false
  }
 },
 "nbformat": 4,
 "nbformat_minor": 5
}
