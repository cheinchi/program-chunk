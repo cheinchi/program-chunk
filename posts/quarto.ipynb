{
  "cells": [
    {
      "cell_type": "raw",
      "metadata": {},
      "source": [
        "---\n",
        "title: Using quarto\n",
        "date: 2023-02-17\n",
        "---"
      ],
      "id": "9af8d0b6"
    },
    {
      "cell_type": "markdown",
      "metadata": {},
      "source": [
        "## adding Video \n",
        "Embeding videos in documents `.qmd` using the `{{< video video_url>}}`\n",
        "We could embed the Youtube video like this:\n",
        "\n",
        "```js\n",
        "{{< video https://www.youtube.com/embed/wo9vZccmqwc >}}\n",
        "```\n",
        "\n",
        "```js\n",
        "{{< video https://players.brightcove.net/1460825906/default_default/index.html?videoId=5988531335001 >}}\n",
        "```\n",
        "\n",
        "\n",
        "{{< video https://players.brightcove.net/1460825906/default_default/index.html?videoId=5988531335001 >}}\n",
        "\n",
        "\n",
        "\n",
        "\n",
        "- The parameter like `title`,`start`, `width` and `height` could be adjusted.\n",
        "- The local file like `.mp4` format file be embeded \n",
        "\n",
        "\n",
        "```{js}\n",
        "#| echo: fenced\n",
        "{{< video local-video.mp4 >}}\n",
        "{{< video https://www.youtube.com/embed/wo9vZccmqwc >}}\n",
        "{{< video https://vimeo.com/548291297 >}}\n",
        "{{< video https://youtu.be/wo9vZccmqwc width=\"400\" height=\"300\" >}}\n",
        "{{< video https://www.youtube.com/embed/wo9vZccmqwc\n",
        "    title=\"What is the CERN?\"\n",
        "    start=\"116\"\n",
        "    aspect-ratio=\"21x9\" \n",
        ">}}\n",
        "```"
      ],
      "id": "7234caf8"
    },
    {
      "cell_type": "code",
      "metadata": {},
      "source": [
        "#| echo: fenced\n",
        "1 + 1"
      ],
      "id": "ff605f1d",
      "execution_count": null,
      "outputs": []
    }
  ],
  "metadata": {
    "kernelspec": {
      "name": "python3",
      "language": "python",
      "display_name": "Python 3 (ipykernel)"
    }
  },
  "nbformat": 4,
  "nbformat_minor": 5
}