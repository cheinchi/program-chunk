{
 "cells": [
  {
   "cell_type": "markdown",
   "id": "bdae49e1",
   "metadata": {
    "toc": true
   },
   "source": [
    "<h1>Table of Contents<span class=\"tocSkip\"></span></h1>\n",
    "<div class=\"toc\"><ul class=\"toc-item\"></ul></div>"
   ]
  },
  {
   "cell_type": "markdown",
   "id": "88d204e1",
   "metadata": {},
   "source": [
    "## data-mining binning "
   ]
  },
  {
   "cell_type": "code",
   "execution_count": 29,
   "id": "061e8f4f",
   "metadata": {},
   "outputs": [],
   "source": [
    "fr = open('onlineresponse.txt', 'rb') #可以先用字节模式获取数据\n",
    "data = fr.readline()\n",
    "data = data.decode('gbk')   #因为gbk兼容iso和utf，先按gbk解码\n",
    "data = data.encode('utf-8')   #需要的话可以再用utf格式编码"
   ]
  },
  {
   "cell_type": "code",
   "execution_count": 4,
   "id": "377bfec6",
   "metadata": {},
   "outputs": [],
   "source": [
    "import numpy as np\n",
    "import math\n",
    "from sklearn.datasets import load_iris\n",
    "from sklearn import datasets, linear_model, metrics"
   ]
  },
  {
   "cell_type": "code",
   "execution_count": 5,
   "id": "297196ad",
   "metadata": {},
   "outputs": [],
   "source": [
    "import numpy as np\n",
    "import pandas as pd\n",
    "datasets = np.array([13, 15, 16, 16, 19, 20, 20, 21, 22, 22, 25, 25, 25,\n",
    "        25, 30, 33, 33, 35, 35, 35, 35, 36, 40, 45, 46, 52, 70])\n"
   ]
  },
  {
   "cell_type": "code",
   "execution_count": 6,
   "id": "3caed524",
   "metadata": {},
   "outputs": [],
   "source": [
    "a = datasets\n",
    "b = np.zeros(len(a))"
   ]
  },
  {
   "cell_type": "code",
   "execution_count": 9,
   "id": "df9517c0",
   "metadata": {},
   "outputs": [
    {
     "data": {
      "text/plain": [
       "15"
      ]
     },
     "execution_count": 9,
     "metadata": {},
     "output_type": "execute_result"
    }
   ],
   "source": [
    "a[1]"
   ]
  },
  {
   "cell_type": "code",
   "execution_count": 7,
   "id": "e01f1044",
   "metadata": {},
   "outputs": [],
   "source": [
    "for i in range(len(a)):\n",
    "    b[i]=a[i]"
   ]
  },
  {
   "cell_type": "code",
   "execution_count": 12,
   "id": "84f31f4b",
   "metadata": {},
   "outputs": [
    {
     "name": "stdout",
     "output_type": "stream",
     "text": [
      "[13. 15. 16. 16. 19. 20. 20. 21. 22. 22. 25. 25. 25. 25. 30. 33. 33. 35.\n",
      " 35. 35. 35. 36. 40. 45. 46. 52. 70.]\n"
     ]
    }
   ],
   "source": [
    "print(b)"
   ]
  },
  {
   "cell_type": "code",
   "execution_count": 48,
   "id": "cef04447",
   "metadata": {},
   "outputs": [],
   "source": [
    "b = np.sort(b)"
   ]
  },
  {
   "cell_type": "code",
   "execution_count": 58,
   "id": "c0efc5b1",
   "metadata": {},
   "outputs": [
    {
     "data": {
      "text/plain": [
       "array([13., 15., 16., 16., 19., 20., 20., 21., 22., 22., 25., 25., 25.,\n",
       "       25., 30., 33., 33., 35., 35., 35., 35., 36., 40., 45., 46., 52.,\n",
       "       70.])"
      ]
     },
     "execution_count": 58,
     "metadata": {},
     "output_type": "execute_result"
    }
   ],
   "source": [
    "b"
   ]
  },
  {
   "cell_type": "code",
   "execution_count": 64,
   "id": "720d2dee",
   "metadata": {},
   "outputs": [],
   "source": [
    "lens = len(a)"
   ]
  },
  {
   "cell_type": "code",
   "execution_count": 68,
   "id": "441b3230",
   "metadata": {},
   "outputs": [
    {
     "data": {
      "text/plain": [
       "27"
      ]
     },
     "execution_count": 68,
     "metadata": {},
     "output_type": "execute_result"
    }
   ],
   "source": [
    "lens"
   ]
  },
  {
   "cell_type": "code",
   "execution_count": 69,
   "id": "bd474ba4",
   "metadata": {},
   "outputs": [
    {
     "data": {
      "text/plain": [
       "9.0"
      ]
     },
     "execution_count": 69,
     "metadata": {},
     "output_type": "execute_result"
    }
   ],
   "source": [
    "lens/3"
   ]
  },
  {
   "cell_type": "code",
   "execution_count": 71,
   "id": "c9873050",
   "metadata": {},
   "outputs": [],
   "source": [
    "bin1 = np.zeros((9,3))\n",
    "bin2 = np.zeros((9, 3))\n",
    "bin3 = np.zeros((9, 3))\n"
   ]
  },
  {
   "cell_type": "code",
   "execution_count": 72,
   "id": "d4fa76fe",
   "metadata": {},
   "outputs": [
    {
     "name": "stdout",
     "output_type": "stream",
     "text": [
      "Bin Mean: \n",
      " [[14.66666667 14.66666667 14.66666667]\n",
      " [18.33333333 18.33333333 18.33333333]\n",
      " [21.         21.         21.        ]\n",
      " [24.         24.         24.        ]\n",
      " [26.66666667 26.66666667 26.66666667]\n",
      " [33.66666667 33.66666667 33.66666667]\n",
      " [35.         35.         35.        ]\n",
      " [40.33333333 40.33333333 40.33333333]\n",
      " [56.         56.         56.        ]]\n"
     ]
    }
   ],
   "source": [
    "for i in range (0,len(a),3):\n",
    "    k=int(i/3)\n",
    "    mean=(b[i] + b[i+1] + b[i+2])/3\n",
    "    for j in range(3):\n",
    "        bin1[k,j]=mean\n",
    "print(\"Bin Mean: \\n\",bin1)"
   ]
  },
  {
   "cell_type": "code",
   "execution_count": 3,
   "id": "676725a0",
   "metadata": {},
   "outputs": [],
   "source": [
    "import matplotlib.pyplot as plt\n",
    "import statsmodels.api as sm"
   ]
  },
  {
   "cell_type": "code",
   "execution_count": 47,
   "id": "c059aa5d",
   "metadata": {},
   "outputs": [],
   "source": [
    "y = np.array(range(1,28,1))"
   ]
  },
  {
   "cell_type": "code",
   "execution_count": 53,
   "id": "82026859",
   "metadata": {},
   "outputs": [
    {
     "name": "stdout",
     "output_type": "stream",
     "text": [
      "[-1.70252488e-05 -9.51573032e-03  1.36135068e+00 -1.59664180e+01]\n"
     ]
    }
   ],
   "source": [
    "z1 = np.polyfit(b,y,3)\n",
    "print(z1)"
   ]
  },
  {
   "cell_type": "code",
   "execution_count": 54,
   "id": "2e6fd93e",
   "metadata": {},
   "outputs": [],
   "source": [
    "p1 = np.poly1d(z1)  # 返回值为多项式的表达式，也就是函数式子"
   ]
  },
  {
   "cell_type": "code",
   "execution_count": 55,
   "id": "903cc6ee",
   "metadata": {},
   "outputs": [
    {
     "name": "stdout",
     "output_type": "stream",
     "text": [
      "            3            2\n",
      "-1.703e-05 x - 0.009516 x + 1.361 x - 15.97\n"
     ]
    }
   ],
   "source": [
    "print(p1)\n",
    "y_pred = p1(b)"
   ]
  },
  {
   "cell_type": "code",
   "execution_count": 56,
   "id": "0fcf8af0",
   "metadata": {},
   "outputs": [
    {
     "data": {
      "text/plain": [
       "[<matplotlib.lines.Line2D at 0x15eafcfa0>]"
      ]
     },
     "execution_count": 56,
     "metadata": {},
     "output_type": "execute_result"
    },
    {
     "data": {
      "image/png": "[encoded data removed]",
      "text/plain": [
       "<Figure size 432x288 with 1 Axes>"
      ]
     },
     "metadata": {
      "needs_background": "light"
     },
     "output_type": "display_data"
    }
   ],
   "source": [
    "plt.plot(b,y)"
   ]
  },
  {
   "cell_type": "code",
   "execution_count": 57,
   "id": "0f763a34",
   "metadata": {},
   "outputs": [
    {
     "data": {
      "image/png": "[encoded data removed]",
      "text/plain": [
       "<Figure size 432x288 with 1 Axes>"
      ]
     },
     "metadata": {
      "needs_background": "light"
     },
     "output_type": "display_data"
    }
   ],
   "source": [
    "plot1 = plt.plot(b, y, '*', label='original values')\n",
    "plot2 = plt.plot(b, y_pred, 'r', label='fit values')"
   ]
  },
  {
   "cell_type": "markdown",
   "id": "108e9367",
   "metadata": {},
   "source": [
    "本篇所应用的一些python的绘图方法\n",
    "https://zhuanlan.zhihu.com/p/122702657"
   ]
  },
  {
   "cell_type": "code",
   "execution_count": 1,
   "id": "769ced9f",
   "metadata": {},
   "outputs": [],
   "source": [
    "import pandas as pd\n",
    "import numpy as np\n",
    "import seaborn as sbn"
   ]
  },
  {
   "cell_type": "code",
   "execution_count": 8,
   "id": "ad1fbeee",
   "metadata": {},
   "outputs": [
    {
     "name": "stderr",
     "output_type": "stream",
     "text": [
      "/Users/a182501/opt/anaconda3/lib/python3.8/site-packages/seaborn/_decorators.py:36: FutureWarning: Pass the following variable as a keyword arg: x. From version 0.12, the only valid positional argument will be `data`, and passing other arguments without an explicit keyword will result in an error or misinterpretation.\n",
      "  warnings.warn(\n"
     ]
    },
    {
     "data": {
      "text/plain": [
       "<AxesSubplot:>"
      ]
     },
     "execution_count": 8,
     "metadata": {},
     "output_type": "execute_result"
    },
    {
     "data": {
      "image/png": "[encoded data removed]",
      "text/plain": [
       "<Figure size 432x288 with 1 Axes>"
      ]
     },
     "metadata": {
      "needs_background": "light"
     },
     "output_type": "display_data"
    }
   ],
   "source": [
    "sbn.boxplot(b)"
   ]
  },
  {
   "cell_type": "code",
   "execution_count": null,
   "id": "5f388198",
   "metadata": {},
   "outputs": [],
   "source": []
  },
  {
   "cell_type": "code",
   "execution_count": null,
   "id": "9f3c0e5c",
   "metadata": {},
   "outputs": [],
   "source": []
  },
  {
   "cell_type": "code",
   "execution_count": 39,
   "id": "45bec86c",
   "metadata": {},
   "outputs": [
    {
     "data": {
      "text/plain": [
       "array([13, 15, 16, 16, 19, 20, 20, 21, 22, 22, 25, 25, 25, 25, 30, 33, 33,\n",
       "       35, 35, 35, 35, 36, 40, 45, 46, 52, 70])"
      ]
     },
     "execution_count": 39,
     "metadata": {},
     "output_type": "execute_result"
    }
   ],
   "source": [
    "datasets"
   ]
  },
  {
   "cell_type": "code",
   "execution_count": null,
   "id": "8579cbf1",
   "metadata": {},
   "outputs": [],
   "source": []
  }
 ],
 "metadata": {
  "kernelspec": {
   "display_name": "Python 3.8.3",
   "language": "python",
   "name": "python3"
  },
  "language_info": {
   "codemirror_mode": {
    "name": "ipython",
    "version": 3
   },
   "file_extension": ".py",
   "mimetype": "text/x-python",
   "name": "python",
   "nbconvert_exporter": "python",
   "pygments_lexer": "ipython3",
   "version": "3.8.3"
  },
  "toc": {
   "base_numbering": 1,
   "nav_menu": {},
   "number_sections": true,
   "sideBar": true,
   "skip_h1_title": true,
   "title_cell": "Table of Contents",
   "title_sidebar": "Contents",
   "toc_cell": true,
   "toc_position": {},
   "toc_section_display": true,
   "toc_window_display": false
  },
  "vscode": {
   "interpreter": {
    "hash": "7b0c230b72b80e9c74eca9acf6469f78d70ab4dd7cb2180d8f2554f50366e6c7"
   }
  }
 },
 "nbformat": 4,
 "nbformat_minor": 5
}
