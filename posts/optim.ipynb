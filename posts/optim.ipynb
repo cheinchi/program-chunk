{
 "cells": [
  {
   "cell_type": "raw",
   "metadata": {},
   "source": [
    "---\n",
    "title: optimization in python\n",
    "date: 2022-11-11\n",
    "---"
   ]
  },
  {
   "cell_type": "code",
   "execution_count": 1,
   "metadata": {},
   "outputs": [
    {
     "name": "stdout",
     "output_type": "stream",
     "text": [
      "Optimization terminated successfully    (Exit mode 0)\n",
      "            Current function value: 4.000000000000002\n",
      "            Iterations: 2\n",
      "            Function evaluations: 2\n",
      "            Gradient evaluations: 2\n",
      "[-2.22044605e-16  2.00000000e+00 -6.66133815e-16]\n"
     ]
    }
   ],
   "source": [
    "import numpy as np\n",
    "from scipy.optimize import minimize\n",
    " \n",
    "# 定义目标函数\n",
    "def func(x, sign=1.0):\n",
    "    # scipy.minimize默认求最小，求max时只需要sign*(-1)，跟下面的args对应\n",
    "    return sign * (x[0] ** 2 + x[1] ** 2 + x[2] ** 2)\n",
    "    # return sign * (np.power(x[0], 2) + np.power(x[1], 2) + np.power(x[2], 2))\n",
    " \n",
    "# 定义目标函数的梯度\n",
    "def func_deriv(x, sign=1):\n",
    "    jac_x0 = sign * (2 * x[0])\n",
    "    jac_x1 = sign * (2 * x[1])\n",
    "    jac_x2 = sign * (2 * x[2])\n",
    "    return np.array([jac_x0, jac_x1, jac_x2])\n",
    " \n",
    "# 定义约束条件\n",
    "# constraints are defined as a sequence of dictionaries, with keys type, fun and jac.\n",
    "cons = (\n",
    "    {'type': 'eq',\n",
    "     'fun': lambda x: np.array([x[0] + 2 * x[1] - x[2] - 4]),\n",
    "     'jac': lambda x: np.array([1, 2, -1])},\n",
    " \n",
    "    {'type': 'eq',\n",
    "     'fun': lambda x: np.array([x[0] - x[1] - x[2] + 2]),\n",
    "     'jac': lambda x: np.array([1, -1, -1])}\n",
    "    )\n",
    " \n",
    "# 定义初始解x0\n",
    "x0 = np.array([-1.0, 1.0, 1.0])\n",
    " \n",
    "# 使用SLSQP算法求解\n",
    "res = minimize(func, x0 , args=(1,), jac=func_deriv, method='SLSQP', options={'disp': True},constraints=cons)\n",
    "# args是传递给目标函数和偏导的参数，此例中为1，求min问题。args=-1时是求解max问题\n",
    "print(res.x)"
   ]
  },
  {
   "cell_type": "code",
   "execution_count": 4,
   "metadata": {},
   "outputs": [
    {
     "name": "stdout",
     "output_type": "stream",
     "text": [
      "Status: CONVERGENCE: NORM_OF_PROJECTED_GRADIENT_<=_PGTOL\n",
      "Total Evaluation: 12\n",
      "Solution:f([ 3.61107754e-08  7.45137776e-08 -3.83671977e+00]) = 0.00000\n",
      "      fun: 6.85629114893573e-15\n",
      " hess_inv: <3x3 LbfgsInvHessProduct with dtype=float64>\n",
      "      jac: array([8.22215507e-08, 1.59027555e-07, 0.00000000e+00])\n",
      "  message: 'CONVERGENCE: NORM_OF_PROJECTED_GRADIENT_<=_PGTOL'\n",
      "     nfev: 12\n",
      "      nit: 2\n",
      "     njev: 3\n",
      "   status: 0\n",
      "  success: True\n",
      "        x: array([ 3.61107754e-08,  7.45137776e-08, -3.83671977e+00])\n"
     ]
    }
   ],
   "source": [
    "from scipy.optimize import minimize\n",
    "from numpy.random import rand\n",
    "\n",
    "# 两个未知数\n",
    "def objective(x):\n",
    "    return x[0]**2.0 + x[1]**2\n",
    "\n",
    "r_min,r_max = -5.0,5.0\n",
    "\n",
    "# 生成随机初始值\n",
    "pt = r_min + rand(3) * (r_max - r_min)\n",
    "\n",
    "result = minimize(objective,pt,method='L-BFGS-B')\n",
    "\n",
    "print(\"Status: %s\" %result['message'])\n",
    "print(\"Total Evaluation: %d\" %result['nfev'])\n",
    "\n",
    "solution = result['x']\n",
    "evaluation = objective(solution)\n",
    "print(\"Solution:f(%s) = %.5f\" %(solution,evaluation))\n",
    "print(result)"
   ]
  },
  {
   "cell_type": "code",
   "execution_count": 5,
   "metadata": {},
   "outputs": [
    {
     "data": {
      "text/plain": [
       "array([ 0.49348315,  2.45112577, -3.83671977])"
      ]
     },
     "execution_count": 5,
     "metadata": {},
     "output_type": "execute_result"
    }
   ],
   "source": [
    "pt"
   ]
  },
  {
   "cell_type": "code",
   "execution_count": null,
   "metadata": {},
   "outputs": [],
   "source": [
    "def object"
   ]
  }
 ],
 "metadata": {
  "kernelspec": {
   "display_name": "Python 3 (ipykernel)",
   "language": "python",
   "name": "python3"
  },
  "language_info": {
   "codemirror_mode": {
    "name": "ipython",
    "version": 3
   },
   "file_extension": ".py",
   "mimetype": "text/x-python",
   "name": "python",
   "nbconvert_exporter": "python",
   "pygments_lexer": "ipython3",
   "version": "3.9.13"
  },
  "vscode": {
   "interpreter": {
    "hash": "96762580dc771c728ac9a1b8aa29a3a420bc09545a8c1a32553175fbb1f6eb2a"
   }
  }
 },
 "nbformat": 4,
 "nbformat_minor": 4
}
