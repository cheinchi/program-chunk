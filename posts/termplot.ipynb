{
 "cells": [
  {
   "cell_type": "raw",
   "metadata": {},
   "source": [
    "---\n",
    "title: \"termplot\"\n",
    "date: 2022-12-01\n",
    "---"
   ]
  },
  {
   "cell_type": "code",
   "execution_count": 2,
   "metadata": {},
   "outputs": [],
   "source": [
    "import termplotlib as tpl\n",
    "import numpy as np\n",
    "\n",
    "x = np.linspace(0, 2 * np.pi, 10)\n",
    "y = np.sin(x)\n"
   ]
  },
  {
   "cell_type": "code",
   "execution_count": 5,
   "metadata": {},
   "outputs": [
    {
     "name": "stdout",
     "output_type": "stream",
     "text": [
      "-3.30e+00 - -2.66e+00  [  8]  █▎\n",
      "-2.66e+00 - -2.03e+00  [ 22]  ███▌\n",
      "-2.03e+00 - -1.39e+00  [ 50]  ████████\n",
      "-1.39e+00 - -7.56e-01  [123]  ███████████████████▋\n",
      "-7.56e-01 - -1.20e-01  [236]  █████████████████████████████████████▊\n",
      "-1.20e-01 - +5.16e-01  [250]  ████████████████████████████████████████\n",
      "+5.16e-01 - +1.15e+00  [172]  ███████████████████████████▌\n",
      "+1.15e+00 - +1.79e+00  [111]  █████████████████▊\n",
      "+1.79e+00 - +2.42e+00  [ 22]  ███▌\n",
      "+2.42e+00 - +3.06e+00  [  6]  █\n"
     ]
    }
   ],
   "source": [
    "import termplotlib as tpl\n",
    "import numpy as np\n",
    "\n",
    "rng = np.random.default_rng(123)\n",
    "sample = rng.standard_normal(size=1000)\n",
    "counts, bin_edges = np.histogram(sample)\n",
    "\n",
    "fig = tpl.figure()\n",
    "fig.hist(counts, bin_edges, orientation=\"horizontal\", force_ascii=False)\n",
    "fig.show()\n"
   ]
  },
  {
   "cell_type": "code",
   "execution_count": 6,
   "metadata": {},
   "outputs": [
    {
     "name": "stdout",
     "output_type": "stream",
     "text": [
      "Cats   [ 3]  ************\n",
      "Dogs   [10]  ****************************************\n",
      "Cows   [ 5]  ********************\n",
      "Geese  [ 2]  ********\n"
     ]
    }
   ],
   "source": [
    "import termplotlib as tpl\n",
    "\n",
    "fig = tpl.figure()\n",
    "fig.barh([3, 10, 5, 2], [\"Cats\", \"Dogs\", \"Cows\", \"Geese\"], force_ascii=True)\n",
    "fig.show()\n"
   ]
  },
  {
   "cell_type": "code",
   "execution_count": 9,
   "metadata": {},
   "outputs": [
    {
     "name": "stdout",
     "output_type": "stream",
     "text": [
      "                  ▇  █\n",
      "                ▁ █ ▁█ ▄\n",
      "                █ █▂██▁█\n",
      "                █▅██████ ▄▄\n",
      "               ▃████████▃██ ▆\n",
      "               █████████▉██▇█\n",
      "            ▅▅▇█████████▉████▁▅\n",
      "           ▂██▉█████████▉██████▃\n",
      "      ▃▁ ▅▇███▉█████████▉███████\n",
      "▂ ▂▄ ▄████████▉█████████▉████████▆▄▅▃▂ ▁\n"
     ]
    }
   ],
   "source": [
    "import termplotlib as tpl\n",
    "import numpy as np\n",
    "\n",
    "rng = np.random.default_rng(123)\n",
    "sample = rng.standard_normal(size=1000)\n",
    "counts, bin_edges = np.histogram(sample, bins=40)\n",
    "fig = tpl.figure()\n",
    "fig.hist(counts, bin_edges, grid=[15, 25], force_ascii=False)\n",
    "fig.show()\n"
   ]
  }
 ],
 "metadata": {
  "kernelspec": {
   "display_name": "Python 3.9.12 ('base')",
   "language": "python",
   "name": "python3"
  },
  "language_info": {
   "codemirror_mode": {
    "name": "ipython",
    "version": 3
   },
   "file_extension": ".py",
   "mimetype": "text/x-python",
   "name": "python",
   "nbconvert_exporter": "python",
   "pygments_lexer": "ipython3",
   "version": "3.9.12"
  },
  "orig_nbformat": 4,
  "vscode": {
   "interpreter": {
    "hash": "40d3a090f54c6569ab1632332b64b2c03c39dcf918b08424e98f38b5ae0af88f"
   }
  }
 },
 "nbformat": 4,
 "nbformat_minor": 2
}
